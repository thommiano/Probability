{
 "cells": [
  {
   "cell_type": "code",
   "execution_count": 1,
   "metadata": {
    "collapsed": true
   },
   "outputs": [],
   "source": [
    "import pandas as pd\n",
    "from random import randint"
   ]
  },
  {
   "cell_type": "markdown",
   "metadata": {},
   "source": [
    "# Problem:\n",
    "    \n",
    "If Alice tosses a coin until she sees a head followed by a tail, and Bob tosses a coin until he sees two heads in a \n",
    "row, then on average, Alice will require four tosses while Bob will require six tosses (try this at home!), even \n",
    "though head-tail and head-head have an equal chance of appearing after two coin tosses."
   ]
  },
  {
   "cell_type": "code",
   "execution_count": 30,
   "metadata": {
    "collapsed": true
   },
   "outputs": [],
   "source": [
    "alice_event = [1,2] # should take an average of 4 tosses\n",
    "bob_event = [2,2] # should take an average of 6 tosses\n",
    "thom_event_1 = [2,1]"
   ]
  },
  {
   "cell_type": "code",
   "execution_count": 27,
   "metadata": {
    "collapsed": false
   },
   "outputs": [],
   "source": [
    "def flip_exp(n, event_trigger, display=\"Off\"):\n",
    "    \n",
    "    record=[]\n",
    "\n",
    "    for i in range(0,n):\n",
    "        \n",
    "        store=[]\n",
    "        \n",
    "        while True:\n",
    "\n",
    "            result = randint(1,2) # Generate 1 or 2 randomly\n",
    "            store.append(result)\n",
    "\n",
    "            if (len(store) > 1):\n",
    "                i = len(store)-1\n",
    "                if ([store[i-1], store[i]]) == event_trigger:\n",
    "                    record.append(len(store))\n",
    "\n",
    "                    break\n",
    "    if (display == \"On\"):\n",
    "        print (sum(record)/len(record))\n",
    "    return record"
   ]
  },
  {
   "cell_type": "code",
   "execution_count": 37,
   "metadata": {
    "collapsed": false
   },
   "outputs": [
    {
     "name": "stdout",
     "output_type": "stream",
     "text": [
      "4.0021\n"
     ]
    }
   ],
   "source": [
    "record = flip_exp(10000, alice_event, display=\"On\")"
   ]
  },
  {
   "cell_type": "code",
   "execution_count": 38,
   "metadata": {
    "collapsed": false
   },
   "outputs": [
    {
     "name": "stdout",
     "output_type": "stream",
     "text": [
      "6.0382\n"
     ]
    }
   ],
   "source": [
    "record = flip_exp(10000, bob_event, display=\"On\")"
   ]
  },
  {
   "cell_type": "code",
   "execution_count": null,
   "metadata": {
    "collapsed": true
   },
   "outputs": [],
   "source": []
  }
 ],
 "metadata": {
  "kernelspec": {
   "display_name": "Python 3",
   "language": "python",
   "name": "python3"
  },
  "language_info": {
   "codemirror_mode": {
    "name": "ipython",
    "version": 3
   },
   "file_extension": ".py",
   "mimetype": "text/x-python",
   "name": "python",
   "nbconvert_exporter": "python",
   "pygments_lexer": "ipython3",
   "version": "3.5.1"
  }
 },
 "nbformat": 4,
 "nbformat_minor": 0
}
