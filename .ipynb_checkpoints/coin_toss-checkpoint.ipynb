{
 "cells": [
  {
   "cell_type": "code",
   "execution_count": 1,
   "metadata": {
    "collapsed": true
   },
   "outputs": [],
   "source": [
    "import pandas as pd\n",
    "from random import randint"
   ]
  },
  {
   "cell_type": "markdown",
   "metadata": {},
   "source": [
    "# Problem:\n",
    "    \n",
    "If Alice tosses a coin until she sees a head followed by a tail, and Bob tosses a coin until he sees two heads in a \n",
    "row, then on average, Alice will require four tosses while Bob will require six tosses (try this at home!), even \n",
    "though head-tail and head-head have an equal chance of appearing after two coin tosses.\n",
    "\n",
    "https://www.quantamagazine.org/20160313-mathematicians-discover-prime-conspiracy/"
   ]
  },
  {
   "cell_type": "code",
   "execution_count": 2,
   "metadata": {
    "collapsed": true
   },
   "outputs": [],
   "source": [
    "alice_event = [1,2] # should take an average of 4 tosses\n",
    "bob_event = [2,2] # should take an average of 6 tosses"
   ]
  },
  {
   "cell_type": "code",
   "execution_count": 3,
   "metadata": {
    "collapsed": false
   },
   "outputs": [],
   "source": [
    "def flip_exp(n, event_trigger, display=\"Off\"):\n",
    "    \n",
    "    record=[]\n",
    "\n",
    "    for i in range(0,n):\n",
    "        \n",
    "        store=[]\n",
    "        \n",
    "        while True:\n",
    "            result = randint(1,2) # Generate 1 or 2 randomly\n",
    "            store.append(result)\n",
    "            if (len(store) > 1):\n",
    "                i = len(store)-1\n",
    "                if ([store[i-1], store[i]]) == event_trigger:\n",
    "                    record.append(len(store))\n",
    "                    break\n",
    "                    \n",
    "    if (display == \"On\"):\n",
    "        print (sum(record)/len(record))\n",
    "        \n",
    "    return record"
   ]
  },
  {
   "cell_type": "code",
   "execution_count": 4,
   "metadata": {
    "collapsed": false
   },
   "outputs": [
    {
     "name": "stdout",
     "output_type": "stream",
     "text": [
      "4.0127\n",
      "[2, 6, 7, 3, 2, 8, 9, 2, 2, 3, 2, 3, 4, 4, 5, 3, 2, 3, 4, 8]\n"
     ]
    }
   ],
   "source": [
    "record = flip_exp(10000, alice_event, display=\"On\")\n",
    "print(record[0:20])"
   ]
  },
  {
   "cell_type": "code",
   "execution_count": 5,
   "metadata": {
    "collapsed": false
   },
   "outputs": [
    {
     "name": "stdout",
     "output_type": "stream",
     "text": [
      "5.9749\n",
      "[10, 2, 3, 12, 8, 7, 4, 2, 2, 2, 10, 3, 7, 12, 2, 13, 6, 10, 2, 12]\n"
     ]
    }
   ],
   "source": [
    "record = flip_exp(10000, bob_event, display=\"On\")\n",
    "print(record[0:20])"
   ]
  },
  {
   "cell_type": "markdown",
   "metadata": {
    "collapsed": true
   },
   "source": [
    "# Generalizable function"
   ]
  },
  {
   "cell_type": "code",
   "execution_count": 2,
   "metadata": {
    "collapsed": true
   },
   "outputs": [],
   "source": [
    "record_set = [0,1,1,1,0]\n",
    "\n",
    "target_set = [0,1,1]"
   ]
  },
  {
   "cell_type": "code",
   "execution_count": 12,
   "metadata": {
    "collapsed": false
   },
   "outputs": [],
   "source": [
    "Lrs = len(record_set)\n",
    "Lts = len(target_set)"
   ]
  },
  {
   "cell_type": "code",
   "execution_count": 6,
   "metadata": {
    "collapsed": false
   },
   "outputs": [
    {
     "data": {
      "text/plain": [
       "5"
      ]
     },
     "execution_count": 6,
     "metadata": {},
     "output_type": "execute_result"
    }
   ],
   "source": [
    "Lr"
   ]
  },
  {
   "cell_type": "code",
   "execution_count": 92,
   "metadata": {
    "collapsed": false
   },
   "outputs": [],
   "source": [
    "from random import randint\n",
    "\n",
    "def set_convergence(target_set, n_experiments=100, display=None, return_records=False):\n",
    "\n",
    "    Lts = len(target_set) # Target set length\n",
    "\n",
    "    experiment_records=[] # Contain lengths of each experiment\n",
    "\n",
    "    for i in range(0,n_experiments):\n",
    "\n",
    "        record_set=[]\n",
    "\n",
    "        while True:\n",
    "            result = randint(min(target_set), max(target_set)) # Generate 1 or 2 randomly\n",
    "            record_set.append(result)\n",
    "            Lrs = len(record_set)\n",
    "\n",
    "            if Lrs >= Lts:\n",
    "                if record_set[ (Lrs-Lts) : Lrs ] == target_set:\n",
    "                    experiment_records.append(Lrs)\n",
    "                    break\n",
    "\n",
    "    if (display == \"On\"):\n",
    "        print (sum(experiment_records)/len(experiment_records))\n",
    "\n",
    "    if return_records == True:\n",
    "        return experiment_records"
   ]
  },
  {
   "cell_type": "code",
   "execution_count": 95,
   "metadata": {
    "collapsed": false
   },
   "outputs": [
    {
     "name": "stdout",
     "output_type": "stream",
     "text": [
      "16.2212\n"
     ]
    }
   ],
   "source": [
    "set_convergence([0,3], n_experiments=10000, display='On')"
   ]
  },
  {
   "cell_type": "code",
   "execution_count": null,
   "metadata": {
    "collapsed": true
   },
   "outputs": [],
   "source": []
  }
 ],
 "metadata": {
  "kernelspec": {
   "display_name": "Python 3",
   "language": "python",
   "name": "python3"
  },
  "language_info": {
   "codemirror_mode": {
    "name": "ipython",
    "version": 3
   },
   "file_extension": ".py",
   "mimetype": "text/x-python",
   "name": "python",
   "nbconvert_exporter": "python",
   "pygments_lexer": "ipython3",
   "version": "3.5.1"
  }
 },
 "nbformat": 4,
 "nbformat_minor": 0
}
